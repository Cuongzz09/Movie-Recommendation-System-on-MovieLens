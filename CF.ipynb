{
 "cells": [
  {
   "cell_type": "markdown",
   "metadata": {},
   "source": [
    "<span style='color:#008000; font-size:20pt; font-weight:bold'>Import Libraries</span>"
   ]
  },
  {
   "cell_type": "code",
   "execution_count": 190,
   "metadata": {},
   "outputs": [],
   "source": [
    "import pandas as pd\n",
    "import matplotlib\n",
    "from matplotlib import pyplot as plt\n",
    "import seaborn as sns\n",
    "import numpy as np\n",
    "import re\n",
    "from sklearn.feature_extraction.text import TfidfVectorizer\n",
    "from sklearn.cluster import KMeans\n",
    "\n",
    "# pd.set_option('display.max_rows', None) # This code will display all of the dataframe\n",
    "# pd.reset_option('all') # Reset to default"
   ]
  },
  {
   "cell_type": "markdown",
   "metadata": {},
   "source": [
    "<span style='color:#008000; font-size:20pt; font-weight:bold'>Loading Dataset</span>"
   ]
  },
  {
   "cell_type": "code",
   "execution_count": 191,
   "metadata": {},
   "outputs": [],
   "source": [
    "movies = pd.read_csv('movielens-1m/movies.dat', sep='::', engine='python', \n",
    "                        names=['movieId', 'title', 'genres'], encoding='ISO-8859-1')"
   ]
  },
  {
   "cell_type": "code",
   "execution_count": 192,
   "metadata": {},
   "outputs": [],
   "source": [
    "movies_with_des = pd.read_csv('movielens_movies_with_descriptions.csv', sep=',')"
   ]
  },
  {
   "cell_type": "code",
   "execution_count": 193,
   "metadata": {},
   "outputs": [],
   "source": [
    "users = pd.read_csv('movielens-1m/users.dat', sep='::', engine='python',\n",
    "                    names=['userId', 'gender', 'age', 'occupation', 'zip-code'], encoding='ISO-8859-1')"
   ]
  },
  {
   "cell_type": "code",
   "execution_count": 194,
   "metadata": {},
   "outputs": [],
   "source": [
    "ratings = pd.read_csv('movielens-1m/ratings.dat',\n",
    "                      sep='::', engine='python', \n",
    "                      names=['userId', 'movieId', 'rating', 'timestamp'], encoding='ISO-8859-1')"
   ]
  },
  {
   "cell_type": "code",
   "execution_count": 195,
   "metadata": {},
   "outputs": [],
   "source": [
    "ratings.drop(['timestamp'], axis=1, inplace=True)\n",
    "users.drop(['zip-code'], axis=1, inplace=True)"
   ]
  },
  {
   "cell_type": "code",
   "execution_count": 196,
   "metadata": {},
   "outputs": [],
   "source": [
    "\n",
    "movies['year'] = movies['title'].str.extract(r'\\((\\d{4})\\)')\n",
    "\n",
    "movies['title'] = movies['title'].str.replace(r'\\(\\d{4}\\)', '', regex=True).str.strip()\n",
    "\n",
    "\n",
    "movies['title'] = movies['title'].str.replace(r'\\s+', ' ', regex=True).str.strip()\n",
    "\n",
    "\n",
    "def fix_title_regex(title):\n",
    "    return re.sub(r\"^(.*), (The|A|An|L'|Le)( \\(.+\\))?$\", r'\\2 \\1\\3', title)\n",
    "movies['title'] = movies['title'].apply(fix_title_regex)"
   ]
  },
  {
   "cell_type": "markdown",
   "metadata": {},
   "source": [
    "<span style='color:#008000; font-size:20pt; font-weight:bold'>Item-based CF</span>"
   ]
  },
  {
   "cell_type": "markdown",
   "metadata": {},
   "source": [
    "<span style='color:#007ACC; font-size:15pt; font-weight:bold'>Pivot Table</span>"
   ]
  },
  {
   "cell_type": "code",
   "execution_count": 197,
   "metadata": {},
   "outputs": [],
   "source": [
    "# Pivot table: users x movies\n",
    "user_item_matrix = ratings.pivot(index='userId', columns='movieId', values='rating').fillna(0)"
   ]
  },
  {
   "cell_type": "markdown",
   "metadata": {},
   "source": [
    "<span style='color:#007ACC; font-size:15pt; font-weight:bold'>Cosine Similarity</span>"
   ]
  },
  {
   "cell_type": "code",
   "execution_count": 198,
   "metadata": {},
   "outputs": [],
   "source": [
    "from sklearn.metrics.pairwise import cosine_similarity\n",
    "import numpy as np\n",
    "\n",
    "# Ma trận tương đồng giữa item (dựa trên rating vector)\n",
    "item_similarity = cosine_similarity(user_item_matrix.T)\n",
    "item_similarity_df = pd.DataFrame(item_similarity, \n",
    "                                   index=user_item_matrix.columns, \n",
    "                                   columns=user_item_matrix.columns)"
   ]
  },
  {
   "cell_type": "markdown",
   "metadata": {},
   "source": [
    "<span style='color:#007ACC; font-size:15pt; font-weight:bold'>Recommender</span>"
   ]
  },
  {
   "cell_type": "code",
   "execution_count": 199,
   "metadata": {},
   "outputs": [],
   "source": [
    "# Hàm gợi ý các phim tương tự (CF truyền thống)\n",
    "def item_based_recommend(movie_id, top_n=5):\n",
    "    if movie_id not in item_similarity_df.columns:\n",
    "        return f\"Movie ID {movie_id} not exists in the system.\"\n",
    "    \n",
    "    original_movie = movies[movies['movieId'] == movie_id][['title', 'year']].values\n",
    "    original_title, original_year = original_movie[0]\n",
    "\n",
    "    similar_scores = item_similarity_df[movie_id].sort_values(ascending=False)\n",
    "    similar_movies = similar_scores.iloc[1:top_n+1].index\n",
    "\n",
    "    recommended_movies = movies[movies['movieId'].isin(similar_movies)][['movieId', 'title', 'year']]\n",
    "    recommended_movies['similarity'] = recommended_movies['movieId'].apply(lambda x: similar_scores[x])\n",
    "    recommended_movies = recommended_movies.sort_values(by='similarity', ascending=False).reset_index(drop=True)\n",
    "\n",
    "    print(f\"Top {top_n} similarity movies with Movie ID {movie_id}: \\n{original_title} ({original_year}):\")\n",
    "    return recommended_movies"
   ]
  },
  {
   "cell_type": "code",
   "execution_count": 200,
   "metadata": {},
   "outputs": [
    {
     "name": "stdout",
     "output_type": "stream",
     "text": [
      "Top 5 similarity movies with Movie ID 1: \n",
      "Toy Story (1995):\n"
     ]
    },
    {
     "data": {
      "text/html": [
       "<div>\n",
       "<style scoped>\n",
       "    .dataframe tbody tr th:only-of-type {\n",
       "        vertical-align: middle;\n",
       "    }\n",
       "\n",
       "    .dataframe tbody tr th {\n",
       "        vertical-align: top;\n",
       "    }\n",
       "\n",
       "    .dataframe thead th {\n",
       "        text-align: right;\n",
       "    }\n",
       "</style>\n",
       "<table border=\"1\" class=\"dataframe\">\n",
       "  <thead>\n",
       "    <tr style=\"text-align: right;\">\n",
       "      <th></th>\n",
       "      <th>movieId</th>\n",
       "      <th>title</th>\n",
       "      <th>year</th>\n",
       "      <th>similarity</th>\n",
       "    </tr>\n",
       "  </thead>\n",
       "  <tbody>\n",
       "    <tr>\n",
       "      <th>0</th>\n",
       "      <td>3114</td>\n",
       "      <td>Toy Story 2</td>\n",
       "      <td>1999</td>\n",
       "      <td>0.633104</td>\n",
       "    </tr>\n",
       "    <tr>\n",
       "      <th>1</th>\n",
       "      <td>1265</td>\n",
       "      <td>Groundhog Day</td>\n",
       "      <td>1993</td>\n",
       "      <td>0.610826</td>\n",
       "    </tr>\n",
       "    <tr>\n",
       "      <th>2</th>\n",
       "      <td>588</td>\n",
       "      <td>Aladdin</td>\n",
       "      <td>1992</td>\n",
       "      <td>0.605849</td>\n",
       "    </tr>\n",
       "    <tr>\n",
       "      <th>3</th>\n",
       "      <td>2355</td>\n",
       "      <td>A Bug's Life</td>\n",
       "      <td>1998</td>\n",
       "      <td>0.579382</td>\n",
       "    </tr>\n",
       "    <tr>\n",
       "      <th>4</th>\n",
       "      <td>1270</td>\n",
       "      <td>Back to the Future</td>\n",
       "      <td>1985</td>\n",
       "      <td>0.570125</td>\n",
       "    </tr>\n",
       "  </tbody>\n",
       "</table>\n",
       "</div>"
      ],
      "text/plain": [
       "   movieId               title  year  similarity\n",
       "0     3114         Toy Story 2  1999    0.633104\n",
       "1     1265       Groundhog Day  1993    0.610826\n",
       "2      588             Aladdin  1992    0.605849\n",
       "3     2355        A Bug's Life  1998    0.579382\n",
       "4     1270  Back to the Future  1985    0.570125"
      ]
     },
     "execution_count": 200,
     "metadata": {},
     "output_type": "execute_result"
    }
   ],
   "source": [
    "item_based_recommend(1, 5)"
   ]
  }
 ],
 "metadata": {
  "kernelspec": {
   "display_name": "MachineLearning",
   "language": "python",
   "name": "machinelearning"
  },
  "language_info": {
   "codemirror_mode": {
    "name": "ipython",
    "version": 3
   },
   "file_extension": ".py",
   "mimetype": "text/x-python",
   "name": "python",
   "nbconvert_exporter": "python",
   "pygments_lexer": "ipython3",
   "version": "3.12.3"
  }
 },
 "nbformat": 4,
 "nbformat_minor": 2
}
