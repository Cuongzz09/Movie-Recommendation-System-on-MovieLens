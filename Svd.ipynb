{
 "cells": [
  {
   "cell_type": "markdown",
   "metadata": {},
   "source": [
    "# Step 1: Import Necessary Libraries"
   ]
  },
  {
   "cell_type": "code",
   "execution_count": 1,
   "metadata": {},
   "outputs": [],
   "source": [
    "import pandas as pd\n",
    "import numpy as np\n",
    "from scipy.sparse.linalg import svds\n",
    "from sklearn.metrics import mean_squared_error\n",
    "from math import sqrt\n",
    "from sklearn.model_selection import train_test_split"
   ]
  },
  {
   "cell_type": "markdown",
   "metadata": {},
   "source": [
    "# Step 2: Load the Datasets"
   ]
  },
  {
   "cell_type": "code",
   "execution_count": 2,
   "metadata": {},
   "outputs": [
    {
     "name": "stdout",
     "output_type": "stream",
     "text": [
      "Movies with descriptions shape: (3883, 5)\n",
      "   movieId                        title                        genres  year  \\\n",
      "0        1                    Toy Story   Animation|Children's|Comedy  1995   \n",
      "1        2                      Jumanji  Adventure|Children's|Fantasy  1995   \n",
      "2        3             Grumpier Old Men                Comedy|Romance  1995   \n",
      "3        4            Waiting to Exhale                  Comedy|Drama  1995   \n",
      "4        5  Father of the Bride Part II                        Comedy  1995   \n",
      "\n",
      "                                         description  \n",
      "0  Led by Woody, Andy's toys live happily in his ...  \n",
      "1  When siblings Judy and Peter discover an encha...  \n",
      "2  A family wedding reignites the ancient feud be...  \n",
      "3  Cheated on, mistreated and stepped on, the wom...  \n",
      "4  Just when George Banks has recovered from his ...  \n"
     ]
    }
   ],
   "source": [
    "# 2.1 Load movie metadata with descriptions\n",
    "# This CSV should include: movieId, title, genres, year, description.\n",
    "movies_df = pd.read_csv('movielens_movies_with_descriptions.csv')\n",
    "print(\"Movies with descriptions shape:\", movies_df.shape)\n",
    "print(movies_df.head())"
   ]
  },
  {
   "cell_type": "code",
   "execution_count": 3,
   "metadata": {},
   "outputs": [
    {
     "name": "stdout",
     "output_type": "stream",
     "text": [
      "Users dataset shape: (6040, 5)\n",
      "   userId Gender  Age  Occupation Zip-code\n",
      "0       1      F    1          10    48067\n",
      "1       2      M   56          16    70072\n",
      "2       3      M   25          15    55117\n",
      "3       4      M   45           7    02460\n",
      "4       5      M   25          20    55455\n"
     ]
    }
   ],
   "source": [
    "# 2.2 Load user demographics (movielens-1m/users.dat)\n",
    "# The users.dat file is delimited by \"::\". We use the 'python' engine\n",
    "users_df = pd.read_csv('movielens-1m/users.dat', sep='::', engine='python',\n",
    "                         header=None, names=['userId', 'Gender', 'Age', 'Occupation', 'Zip-code'])\n",
    "print(\"Users dataset shape:\", users_df.shape)\n",
    "print(users_df.head())"
   ]
  },
  {
   "cell_type": "code",
   "execution_count": 4,
   "metadata": {},
   "outputs": [
    {
     "name": "stdout",
     "output_type": "stream",
     "text": [
      "Ratings dataset shape: (1000209, 4)\n",
      "   userId  movieId  rating  timestamp\n",
      "0       1     1193       5  978300760\n",
      "1       1      661       3  978302109\n",
      "2       1      914       3  978301968\n",
      "3       1     3408       4  978300275\n",
      "4       1     2355       5  978824291\n"
     ]
    }
   ],
   "source": [
    "# 2.3 Load ratings data (movielens-1m/ratings.dat)\n",
    "# The users.dat file is delimited by \"::\". We use the 'python' engine\n",
    "ratings_df = pd.read_csv('movielens-1m/ratings.dat', sep='::', engine='python',\n",
    "                         header=None, names=['userId', 'movieId', 'rating', 'timestamp'])\n",
    "print(\"Ratings dataset shape:\", ratings_df.shape)\n",
    "print(ratings_df.head())"
   ]
  },
  {
   "cell_type": "markdown",
   "metadata": {},
   "source": [
    "# Step 3: Split Ratings into Training and Test Sets"
   ]
  },
  {
   "cell_type": "code",
   "execution_count": 5,
   "metadata": {},
   "outputs": [],
   "source": [
    "# We'll use 80% of the ratings for training and 20% for testing.\n",
    "train_data, test_data = train_test_split(ratings_df, test_size=0.2, random_state=42)\n",
    "\n",
    "# Build a full user-item matrix from the entire ratings dataset.\n",
    "# Rows: users, Columns: movieId. Missing ratings are filled with zeros.\n",
    "R_full = ratings_df.pivot(index='userId', columns='movieId', values='rating').fillna(0)\n",
    "\n",
    "# For training, we start with the full matrix and then \"mask\" the test ratings.\n",
    "R_train = R_full.copy()\n",
    "# For each test record, set the corresponding entry in R_train to 0.\n",
    "for idx, row in test_data.iterrows():\n",
    "    R_train.loc[row['userId'], row['movieId']] = 0\n",
    "\n",
    "# Convert training matrix to a NumPy array.\n",
    "R_train = R_train.values"
   ]
  },
  {
   "cell_type": "markdown",
   "metadata": {},
   "source": [
    "# Step 4: Normalize the Training Ratings Matrix and Perform SVD"
   ]
  },
  {
   "cell_type": "code",
   "execution_count": 6,
   "metadata": {},
   "outputs": [],
   "source": [
    "# Compute the mean rating for each user from the training matrix.\n",
    "user_ratings_mean = np.mean(R_train, axis=1)\n",
    "# Demean the training matrix.\n",
    "R_train_demeaned = R_train - user_ratings_mean.reshape(-1, 1)\n",
    "\n",
    "# Perform SVD on the demeaned training matrix.\n",
    "# Choose the number of latent factors (k). Adjust as needed.\n",
    "k = 50\n",
    "U, sigma, Vt = svds(R_train_demeaned, k=k)\n",
    "sigma = np.diag(sigma)\n",
    "\n",
    "# Reconstruct the approximated ratings matrix.\n",
    "R_train_predicted = np.dot(np.dot(U, sigma), Vt) + user_ratings_mean.reshape(-1, 1)"
   ]
  },
  {
   "cell_type": "markdown",
   "metadata": {},
   "source": [
    "# Step 5: Evaluate the Model on the Test Set"
   ]
  },
  {
   "cell_type": "code",
   "execution_count": 7,
   "metadata": {},
   "outputs": [
    {
     "name": "stdout",
     "output_type": "stream",
     "text": [
      "RMSE on test set: 2.7405\n",
      "\n"
     ]
    }
   ],
   "source": [
    "# Create the full user-item rating matrix from ratings_df:\n",
    "R_df = ratings_df.pivot(index='userId', columns='movieId', values='rating').fillna(0)\n",
    "\n",
    "# We'll compute RMSE for all test entries.\n",
    "test_preds = []\n",
    "test_truth = []\n",
    "\n",
    "# R_df is the pivoted DataFrame we created, with columns corresponding to movieIds.\n",
    "# We'll use R_df.columns.get_loc(movie) to get the column index.\n",
    "for idx, row in test_data.iterrows():\n",
    "    user = int(row['userId'])\n",
    "    movie = int(row['movieId'])\n",
    "    true_rating = row['rating']\n",
    "    # Get the column index corresponding to the movieId.\n",
    "    try:\n",
    "        movie_idx = R_df.columns.get_loc(movie)\n",
    "    except KeyError:\n",
    "        # If a movie in the test set is not in the training pivot, skip it.\n",
    "        continue\n",
    "    pred_rating = R_train_predicted[user - 1, movie_idx]  # user indexing: userId 1 corresponds to index 0\n",
    "    test_preds.append(pred_rating)\n",
    "    test_truth.append(true_rating)\n",
    "\n",
    "test_rmse = sqrt(mean_squared_error(test_truth, test_preds))\n",
    "print(f\"RMSE on test set: {test_rmse:.4f}\\n\")"
   ]
  },
  {
   "cell_type": "markdown",
   "metadata": {},
   "source": [
    "# Step 6: Recommend Movies Using the Movie Metadata"
   ]
  },
  {
   "cell_type": "markdown",
   "metadata": {},
   "source": [
    "## Recommend movies for a given user based on predicted ratings.\n",
    "    \n",
    "Parameters:\n",
    "- user_id: The ID of the user.\n",
    "- R_predicted_df: DataFrame of predicted ratings (rows: userId, columns: movieId).\n",
    "- movies_df: DataFrame containing movie metadata (with descriptions).\n",
    "- ratings_df: Original ratings DataFrame to determine movies already rated.\n",
    "- num_recommendations: Number of recommendations to output.\n",
    "    \n",
    "Returns:\n",
    "- A DataFrame with the top recommended movies and their details."
   ]
  },
  {
   "cell_type": "code",
   "execution_count": 8,
   "metadata": {},
   "outputs": [
    {
     "name": "stdout",
     "output_type": "stream",
     "text": [
      "Top 5 movie recommendations for user 1:\n",
      "      movieId               title  year  \\\n",
      "360       364       The Lion King  1994   \n",
      "3682     3751         Chicken Run  2000   \n",
      "2012     2081  The Little Mermaid  1989   \n",
      "33         34                Babe  1995   \n",
      "1262     1282            Fantasia  1940   \n",
      "\n",
      "                                           genres  \\\n",
      "360                  Animation|Children's|Musical   \n",
      "3682                  Animation|Children's|Comedy   \n",
      "2012  Animation|Children's|Comedy|Musical|Romance   \n",
      "33                        Children's|Comedy|Drama   \n",
      "1262                 Animation|Children's|Musical   \n",
      "\n",
      "                                            description  PredictedRating  \n",
      "360   A young lion cub named Simba can't wait to be ...         2.449945  \n",
      "3682  Having been hopelessly repressed and facing ev...         1.601483  \n",
      "2012  This colorful adventure tells the story of an ...         1.585757  \n",
      "33    Babe is a little pig who doesn't quite know hi...         1.532167  \n",
      "1262  Walt Disney's timeless masterpiece is an extra...         1.482533  \n"
     ]
    }
   ],
   "source": [
    "def recommend_movies(user_id, R_predicted_df, movies_df, ratings_df, num_recommendations=5):\n",
    "    # Get predicted ratings for the specified user and sort them.\n",
    "    user_predictions = R_predicted_df.loc[user_id].sort_values(ascending=False)\n",
    "    \n",
    "    # Identify movies already rated by the user.\n",
    "    user_rated_movies = ratings_df[ratings_df.userId == user_id]['movieId'].tolist()\n",
    "    \n",
    "    # Filter out movies the user has already rated.\n",
    "    recommendations = movies_df[~movies_df['movieId'].isin(user_rated_movies)].copy()\n",
    "    \n",
    "    # Map the predicted rating to each movie.\n",
    "    recommendations['PredictedRating'] = recommendations['movieId'].map(user_predictions)\n",
    "    \n",
    "    # Sort recommendations by predicted rating.\n",
    "    recommendations = recommendations.sort_values('PredictedRating', ascending=False)\n",
    "    \n",
    "    return recommendations.head(num_recommendations)\n",
    "\n",
    "# Create a DataFrame from R_train_predicted with the same row (user) and column (movieId) labels as R_full.\n",
    "R_predicted_df = pd.DataFrame(R_train_predicted, index=R_full.index, columns=R_full.columns)\n",
    "\n",
    "# Get top 5 recommendations for a sample user (e.g., user 1).\n",
    "recommended_movies = recommend_movies(1, R_predicted_df, movies_df, ratings_df, num_recommendations=5)\n",
    "\n",
    "print(\"Top 5 movie recommendations for user 1:\")\n",
    "print(recommended_movies[['movieId', 'title', 'year', 'genres', 'description', 'PredictedRating']])"
   ]
  }
 ],
 "metadata": {
  "kernelspec": {
   "display_name": "Python 3",
   "language": "python",
   "name": "python3"
  },
  "language_info": {
   "codemirror_mode": {
    "name": "ipython",
    "version": 3
   },
   "file_extension": ".py",
   "mimetype": "text/x-python",
   "name": "python",
   "nbconvert_exporter": "python",
   "pygments_lexer": "ipython3",
   "version": "3.12.6"
  }
 },
 "nbformat": 4,
 "nbformat_minor": 2
}
