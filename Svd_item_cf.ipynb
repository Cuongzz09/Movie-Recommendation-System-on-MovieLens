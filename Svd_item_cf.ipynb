{
 "cells": [
  {
   "cell_type": "markdown",
   "metadata": {},
   "source": [
    "# Step 1: Import Necessary Libraries"
   ]
  },
  {
   "cell_type": "code",
   "execution_count": 1,
   "metadata": {},
   "outputs": [],
   "source": [
    "import pandas as pd\n",
    "import numpy as np\n",
    "from scipy.sparse.linalg import svds\n",
    "from sklearn.decomposition import PCA\n",
    "from sklearn.metrics.pairwise import cosine_similarity\n",
    "from sklearn.metrics import mean_squared_error\n",
    "from math import sqrt\n",
    "import os\n",
    "from sklearn.model_selection import train_test_split"
   ]
  },
  {
   "cell_type": "markdown",
   "metadata": {},
   "source": [
    "# Step 2: Datasets Part"
   ]
  },
  {
   "cell_type": "markdown",
   "metadata": {},
   "source": [
    "## Load the Datasets"
   ]
  },
  {
   "cell_type": "code",
   "execution_count": null,
   "metadata": {},
   "outputs": [
    {
     "name": "stdout",
     "output_type": "stream",
     "text": [
      "Movies dataset shape: (3883, 5)\n",
      "   movieId                        title                        genres  year  \\\n",
      "0        1                    Toy Story   Animation|Children's|Comedy  1995   \n",
      "1        2                      Jumanji  Adventure|Children's|Fantasy  1995   \n",
      "2        3             Grumpier Old Men                Comedy|Romance  1995   \n",
      "3        4            Waiting to Exhale                  Comedy|Drama  1995   \n",
      "4        5  Father of the Bride Part II                        Comedy  1995   \n",
      "\n",
      "                                         description  \n",
      "0  Led by Woody, Andy's toys live happily in his ...  \n",
      "1  When siblings Judy and Peter discover an encha...  \n",
      "2  A family wedding reignites the ancient feud be...  \n",
      "3  Cheated on, mistreated and stepped on, the wom...  \n",
      "4  Just when George Banks has recovered from his ...   \n",
      "\n"
     ]
    }
   ],
   "source": [
    "# 2.1 Load movie metadata with descriptions.\n",
    "# This file must include columns: movieId, title, genres, year, description.\n",
    "if os.path.exists(\"movielens_movies_with_descriptions.csv\"):\n",
    "    movies_with_des_dir = \"movielens_movies_with_descriptions.csv\"\n",
    "else:\n",
    "    movies_with_des_dir = \"../movielens_movies_with_descriptions.csv\"\n",
    "movies_df = pd.read_csv(movies_with_des_dir)\n",
    "print(\"Movies dataset shape:\", movies_df.shape)\n",
    "print(movies_df.head(), \"\\n\")"
   ]
  },
  {
   "cell_type": "code",
   "execution_count": null,
   "metadata": {},
   "outputs": [
    {
     "name": "stdout",
     "output_type": "stream",
     "text": [
      "Ratings dataset shape: (1000209, 4)\n",
      "   userId  movieId  rating  timestamp\n",
      "0       1     1193       5  978300760\n",
      "1       1      661       3  978302109\n",
      "2       1      914       3  978301968\n",
      "3       1     3408       4  978300275\n",
      "4       1     2355       5  978824291 \n",
      "\n"
     ]
    }
   ],
   "source": [
    "# 2.2 Load ratings data.\n",
    "# The ratings file is delimited by \"::\". Adjust file path as needed.\n",
    "if os.path.exists('movielens-1m/ratings.dat'):\n",
    "    ratings_dir = 'movielens-1m/ratings.dat'\n",
    "else:\n",
    "    ratings_dir = '../movielens-1m/ratings.dat'\n",
    "ratings_df = pd.read_csv(ratings_dir, sep='::', engine='python',\n",
    "                         header=None, names=['userId', 'movieId', 'rating', 'timestamp'])\n",
    "print(\"Ratings dataset shape:\", ratings_df.shape)\n",
    "print(ratings_df.head(), \"\\n\")"
   ]
  },
  {
   "cell_type": "code",
   "execution_count": null,
   "metadata": {},
   "outputs": [
    {
     "name": "stdout",
     "output_type": "stream",
     "text": [
      "Users dataset shape: (6040, 5)\n",
      "   userId Gender  Age  Occupation Zip-code\n",
      "0       1      F    1          10    48067\n",
      "1       2      M   56          16    70072\n",
      "2       3      M   25          15    55117\n",
      "3       4      M   45           7    02460\n",
      "4       5      M   25          20    55455 \n",
      "\n"
     ]
    }
   ],
   "source": [
    "# 2.3 Load user demographics for further analysis.\n",
    "if os.path.exists('movielens-1m/users.dat'):\n",
    "    users_dir = 'movielens-1m/users.dat'\n",
    "else:\n",
    "    users_dir = '../movielens-1m/users.dat'\n",
    "users_df = pd.read_csv(users_dir, sep='::', engine='python',\n",
    "                       header=None, names=['userId', 'Gender', 'Age', 'Occupation', 'Zip-code'])\n",
    "print(\"Users dataset shape:\", users_df.shape)\n",
    "print(users_df.head(), \"\\n\")"
   ]
  },
  {
   "cell_type": "markdown",
   "metadata": {},
   "source": [
    "# Step 3: Create the User-Item Rating Matrix"
   ]
  },
  {
   "cell_type": "code",
   "execution_count": null,
   "metadata": {},
   "outputs": [
    {
     "name": "stdout",
     "output_type": "stream",
     "text": [
      "User-Item matrix shape (R_df): (6040, 3706)\n"
     ]
    }
   ],
   "source": [
    "# Pivot the ratings data so that rows represent users and columns represent movies.\n",
    "# Missing ratings are filled with zeros.\n",
    "R_df = ratings_df.pivot(index='userId', columns='movieId', values='rating').fillna(0)\n",
    "print(\"User-Item matrix shape (R_df):\", R_df.shape)\n",
    "# print(R_df.head(), \"\\n\")"
   ]
  },
  {
   "cell_type": "markdown",
   "metadata": {},
   "source": [
    "# Step 4: Prepare Training Data and Apply SVD"
   ]
  },
  {
   "cell_type": "code",
   "execution_count": null,
   "execution_count": 6,
   "metadata": {},
   "outputs": [
    {
     "name": "stdout",
     "output_type": "stream",
     "text": [
      "Train set size: (800167, 4)\n",
      "Test set size: (200042, 4)\n"
     ]
    }
   ],
   "source": [
    "# To follow the SVD formula from the PDF:\n",
    "#   1. Center the data: R_adj = R - mean(R) per user.\n",
    "#   2. Decompose the centered matrix: R_adj = U Σ Vᵀ.\n",
    "#   3. Reconstruct the prediction: R_predicted = U Σ Vᵀ + mean(R).\n",
    "\n",
    "# Split the ratings into training and test sets (80% train, 20% test).\n",
    "train_data, test_data = train_test_split(ratings_df, test_size=0.2, random_state=42)\n",
    "print(\"Train set size:\", train_data.shape)\n",
    "print(\"Test set size:\", test_data.shape)\n",
    "\n",
    "# Build the training matrix from R_df and then mask the test ratings.\n",
    "R_train_df = R_df.copy()\n",
    "# For simplicity, here we assume R_df is built from all ratings and then we mask test entries.\n",
    "for idx, row in test_data.iterrows():\n",
    "    # Set the entry corresponding to each test rating to 0 (masking)\n",
    "    R_train_df.at[row['userId'], row['movieId']] = 0\n",
    "\n",
    "# Convert the training DataFrame to a NumPy array.\n",
    "R_train = R_train_df.values\n",
    "\n",
    "# Apply SVD Using the Formulas (Centering, Decomposition, Reconstruction)\n",
    "# Compute each user's mean rating from the training data.\n",
    "user_ratings_mean = np.mean(R_train, axis=1)\n",
    "# Center the training matrix (this is X_adj in the formulas).\n",
    "R_train_demeaned = R_train - user_ratings_mean.reshape(-1, 1)\n",
    "\n",
    "# Perform SVD on the demeaned training matrix.\n",
    "# Here, k is the number of latent factors; adjust based on your dataset.\n",
    "k = 50\n",
    "U, sigma, Vt = svds(R_train_demeaned, k=k)\n",
    "sigma = np.diag(sigma)\n",
    "\n",
    "# Reconstruct the approximated ratings matrix using the SVD formula:\n",
    "# R_predicted = U Σ Vᵀ + user_mean\n",
    "R_train_predicted = np.dot(np.dot(U, sigma), Vt) + user_ratings_mean.reshape(-1, 1)"
   ]
  },
  {
   "cell_type": "code",
   "execution_count": 7,
   "metadata": {},
   "outputs": [
    {
     "name": "stdout",
     "output_type": "stream",
     "text": [
      "RMSE (SVD): 2.7405\n",
      "MAE (SVD): 2.4679\n",
      "\n"
     ]
    }
   ],
   "source": [
    "# -------------------------------\n",
    "# Evaluate SVD Prediction Performance (RMSE and MAE)\n",
    "# -------------------------------\n",
    "test_preds = []\n",
    "test_truth = []\n",
    "# Since the pivot table R_df's columns are movie IDs (which may not be sequential),\n",
    "# we map the movie ID to its corresponding column index.\n",
    "for idx, row in test_data.iterrows():\n",
    "    user = int(row['userId'])\n",
    "    movie = int(row['movieId'])\n",
    "    true_rating = row['rating']\n",
    "    try:\n",
    "        movie_idx = R_df.columns.get_loc(movie)\n",
    "    except KeyError:\n",
    "        continue  # Skip if the movie ID isn't found\n",
    "    # userId 1 corresponds to index 0.\n",
    "    pred_rating = R_train_predicted[user - 1, movie_idx]\n",
    "    test_preds.append(pred_rating)\n",
    "    test_truth.append(true_rating)\n",
    "\n",
    "if len(test_preds) == 0:\n",
    "    print(\"No test predictions computed. Check that test movie IDs exist in R_df.\")\n",
    "else:\n",
    "    rmse_value = sqrt(mean_squared_error(test_truth, test_preds))\n",
    "    mae_value = np.mean(np.abs(np.array(test_truth) - np.array(test_preds)))\n",
    "    print(f\"RMSE (SVD): {rmse_value:.4f}\")\n",
    "    print(f\"MAE (SVD): {mae_value:.4f}\\n\")"
   ]
  },
  {
   "cell_type": "markdown",
   "metadata": {},
   "source": [
    "# Step 5: Use SVD Predictions to Compute Item-Item Similarity"
   ]
  },
  {
   "cell_type": "code",
   "execution_count": 15,
   "metadata": {},
   "outputs": [
    {
     "name": "stdout",
     "output_type": "stream",
     "text": [
      "Item similarity matrix shape (SVD predictions): (3706, 3706)\n"
     ]
    }
   ],
   "source": [
    "# Instead of computing cosine similarity on the original R_df,\n",
    "# we compute it on the SVD-reconstructed ratings matrix.\n",
    "R_predicted_df = pd.DataFrame(R_train_predicted, index=R_df.index, columns=R_df.columns)\n",
    "item_sim_matrix_svd = cosine_similarity(R_predicted_df.T)\n",
    "item_sim_df_svd = pd.DataFrame(item_sim_matrix_svd, index=R_predicted_df.columns, columns=R_predicted_df.columns)\n",
    "print(\"Item similarity matrix shape (SVD predictions):\", item_sim_df_svd.shape)"
   ]
  },
  {
   "cell_type": "markdown",
   "metadata": {},
   "source": [
    "# Step 6: Apply PCA to the Training Data"
   ]
  },
  {
   "cell_type": "code",
   "execution_count": null,
   "metadata": {},
   "outputs": [],
   "source": [
    "# Using scikit-learn's PCA to reduce dimensionality and then reconstruct the ratings.\n",
    "pca = PCA(n_components=k)\n",
    "# Fit PCA on the centered training matrix.\n",
    "R_train_pca = pca.fit_transform(R_train_demeaned)\n",
    "# Reconstruct: R_pca_pred = inverse_transform + user mean.\n",
    "R_pca_pred = pca.inverse_transform(R_train_pca) + user_ratings_mean.reshape(-1, 1)\n",
    "# Convert PCA predictions to a DataFrame.\n",
    "R_pca_pred_df = pd.DataFrame(R_pca_pred, index=R_df.index, columns=R_df.columns)"
   ]
  },
  {
   "cell_type": "code",
   "execution_count": 16,
   "metadata": {},
   "outputs": [],
   "source": [
    "# PCA-based similarity: Compute cosine similarity on R_pca_pred_df.T.\n",
    "item_sim_matrix_pca = cosine_similarity(R_pca_pred_df.T)\n",
    "item_sim_df_pca = pd.DataFrame(item_sim_matrix_pca, index=R_pca_pred_df.columns, columns=R_pca_pred_df.columns)\n",
    "print(\"Item similarity matrix shape (PCA predictions):\", item_sim_df_pca.shape)"
   ]
  },
  {
   "cell_type": "markdown",
   "metadata": {},
   "source": [
    "# Step 7: Item-Based Collaborative Filtering Recommendation"
   ]
  },
  {
   "cell_type": "markdown",
   "metadata": {},
   "source": [
    "## Recommend movies similar to a given movie using item-based collaborative filtering.\n",
    "  Parameters:\n",
    "  - movie_id (int): The ID of the reference movie.\n",
    "  - item_sim_df (DataFrame): Movie-to-movie cosine similarity matrix.\n",
    "  - movies_df (DataFrame): Movie metadata with descriptions.\n",
    "  - top_n (int): Number of similar movies to return.\n",
    "      \n",
    "  Returns:\n",
    "  - DataFrame: Recommended movies with similarity scores."
   ]
  },
  {
   "cell_type": "code",
   "execution_count": 17,
   "metadata": {},
   "outputs": [],
   "source": [
    "def recommend_similar_movies(movie_id, item_sim_df, movies_df, top_n=5):\n",
    "    if movie_id not in item_sim_df.index:\n",
    "        print(f\"Movie ID {movie_id} not found in similarity matrix.\")\n",
    "        return None\n",
    "    # Retrieve similarity scores for the movie.\n",
    "    sim_scores = item_sim_df.loc[movie_id]\n",
    "    # Remove the movie itself.\n",
    "    sim_scores = sim_scores.drop(movie_id)\n",
    "    # Select the top_n most similar movies.\n",
    "    top_movie_ids = sim_scores.sort_values(ascending=False).head(top_n).index.tolist()\n",
    "    # Retrieve movie details.\n",
    "    recommendations = movies_df[movies_df['movieId'].isin(top_movie_ids)].copy()\n",
    "    recommendations['Similarity'] = recommendations['movieId'].apply(lambda x: sim_scores[x])\n",
    "    recommendations = recommendations.sort_values('Similarity', ascending=False)\n",
    "    return recommendations"
   ]
  },
  {
   "cell_type": "code",
   "execution_count": 22,
   "metadata": {},
   "outputs": [
    {
     "name": "stdout",
     "output_type": "stream",
     "text": [
      "Top 5 movies similar to movie 75 (using SVD predictions):\n",
      "      movieId          title  year           genres  \\\n",
      "3394     3463    Last Resort  1994           Comedy   \n",
      "823       834     Phat Beach  1996           Comedy   \n",
      "2523     2592  The Joyriders  1999            Drama   \n",
      "1592     1636           Stag  1997  Action|Thriller   \n",
      "210       212    Bushwhacked  1995           Comedy   \n",
      "\n",
      "                                            description  Similarity  \n",
      "3394  A U.S. sub picks up Navy SEALs and receives an...    0.918547  \n",
      "823   A hefty homeboy borrows his dad's Mercedes and...    0.892982  \n",
      "2523  A suicidal older man, Gordon Trout, is kidnapp...    0.886835  \n",
      "1592  Victor Mallick returned to his home and found ...    0.881873  \n",
      "210   A inept courier realises he has been used by c...    0.881040  \n",
      "\n",
      "Top 5 movies similar to movie 75 (using PCA predictions):\n",
      "      movieId          title  year           genres  \\\n",
      "3394     3463    Last Resort  1994           Comedy   \n",
      "823       834     Phat Beach  1996           Comedy   \n",
      "2523     2592  The Joyriders  1999            Drama   \n",
      "1592     1636           Stag  1997  Action|Thriller   \n",
      "210       212    Bushwhacked  1995           Comedy   \n",
      "\n",
      "                                            description  Similarity  \n",
      "3394  A U.S. sub picks up Navy SEALs and receives an...    0.864052  \n",
      "823   A hefty homeboy borrows his dad's Mercedes and...    0.832684  \n",
      "2523  A suicidal older man, Gordon Trout, is kidnapp...    0.831515  \n",
      "1592  Victor Mallick returned to his home and found ...    0.830436  \n",
      "210   A inept courier realises he has been used by c...    0.828339  \n"
     ]
    }
   ],
   "source": [
    "# Example: Recommend top 5 movies similar to a reference movie using SVD predictions.\n",
    "reference_movie = 75\n",
    "# Get recommendations using SVD-based similarity.\n",
    "similar_movies_svd = recommend_similar_movies(reference_movie, item_sim_df_svd, movies_df, top_n=5)\n",
    "print(f\"Top 5 movies similar to movie {reference_movie} (using SVD predictions):\")\n",
    "if similar_movies_svd is not None:\n",
    "    print(similar_movies_svd[['movieId', 'title', 'year', 'genres', 'description', 'Similarity']])\n",
    "else:\n",
    "    print(\"No recommendations available (SVD).\")\n",
    "\n",
    "# Get recommendations using PCA-based similarity.\n",
    "similar_movies_pca = recommend_similar_movies(reference_movie, item_sim_df_pca, movies_df, top_n=5)\n",
    "print(f\"\\nTop 5 movies similar to movie {reference_movie} (using PCA predictions):\")\n",
    "if similar_movies_pca is not None:\n",
    "    print(similar_movies_pca[['movieId', 'title', 'year', 'genres', 'description', 'Similarity']])\n",
    "else:\n",
    "    print(\"No recommendations available (PCA).\")"
   ]
  },
  {
   "cell_type": "markdown",
   "metadata": {},
   "source": [
    "# Step 7: Evaluate the SVD Model Based on Recommended Movie Titles"
   ]
  },
  {
   "cell_type": "code",
   "execution_count": 19,
   "metadata": {},
   "outputs": [
    {
     "name": "stdout",
     "output_type": "stream",
     "text": [
      "Precision@5 (SVD): 0.0000\n",
      "Precision@5 (PCA): 0.0000\n"
     ]
    }
   ],
   "source": [
    "# Ground truth: define a set of movie titles that are considered similar (this is domain-specific).\n",
    "# Adjust the set below based on your ground truth for movie 318.\n",
    "ground_truth_titles = {\n",
    "    \"The Green Mile\", \n",
    "    \"Forrest Gump\", \n",
    "    \"Pulp Fiction\", \n",
    "    \"The Godfather\", \n",
    "    \"Fight Club\"\n",
    "}\n",
    "\n",
    "# Calculate Precision@K Based on Movie Titles\n",
    "\n",
    "def precision_at_k(recommended_df, ground_truth_titles, k=5):\n",
    "    \"\"\"\n",
    "    Compute precision@k based on the recommended movie titles.\n",
    "    \n",
    "    Parameters:\n",
    "      recommended_df (DataFrame): DataFrame of recommended movies.\n",
    "      ground_truth_titles (set): Set of ground-truth similar movie titles.\n",
    "      k (int): Number of recommendations considered.\n",
    "      \n",
    "    Returns:\n",
    "      float: Precision@k value.\n",
    "    \"\"\"\n",
    "    # Get the recommended titles (limit to k recommendations).\n",
    "    recommended_titles = recommended_df.head(k)['title'].tolist()\n",
    "    hits = sum([1 for title in recommended_titles if title in ground_truth_titles])\n",
    "    return hits / k\n",
    "\n",
    "if similar_movies_svd is not None:\n",
    "    prec_svd = precision_at_k(similar_movies_svd, ground_truth_titles, k=5)\n",
    "    print(f\"Precision@5 (SVD): {prec_svd:.4f}\")\n",
    "    \n",
    "if similar_movies_pca is not None:\n",
    "    prec_pca = precision_at_k(similar_movies_pca, ground_truth_titles, k=5)\n",
    "    print(f\"Precision@5 (PCA): {prec_pca:.4f}\")"
   ]
  }
 ],
 "metadata": {
  "kernelspec": {
   "display_name": "Python 3 (ipykernel)",
   "language": "python",
   "name": "python3"
  },
  "language_info": {
   "codemirror_mode": {
    "name": "ipython",
    "version": 3
   },
   "file_extension": ".py",
   "mimetype": "text/x-python",
   "name": "python",
   "nbconvert_exporter": "python",
   "pygments_lexer": "ipython3",
   "version": "3.10.2"
  }
 },
 "nbformat": 4,
 "nbformat_minor": 4
}
